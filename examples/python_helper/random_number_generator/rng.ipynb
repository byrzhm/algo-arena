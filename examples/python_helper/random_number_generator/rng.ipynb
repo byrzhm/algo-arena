{
 "cells": [
  {
   "cell_type": "markdown",
   "metadata": {},
   "source": [
    "# 使用python生成随机数据"
   ]
  },
  {
   "cell_type": "markdown",
   "metadata": {},
   "source": [
    "## 导入模块"
   ]
  },
  {
   "cell_type": "code",
   "execution_count": 9,
   "metadata": {},
   "outputs": [],
   "source": [
    "import random\n",
    "import string"
   ]
  },
  {
   "cell_type": "markdown",
   "metadata": {},
   "source": [
    "或者写成:\n",
    "``` python\n",
    "from random import *\n",
    "```\n",
    "此时下面的代码能够简单一点, 如把 `random.randint` 直接写为 `randint`"
   ]
  },
  {
   "cell_type": "markdown",
   "metadata": {},
   "source": [
    "## <div align='middle'>在指定区间 [a, b] 内生成一个随机整数</div>"
   ]
  },
  {
   "cell_type": "code",
   "execution_count": 29,
   "metadata": {},
   "outputs": [
    {
     "name": "stdout",
     "output_type": "stream",
     "text": [
      "[94483034105095969750, 88424444448576298116, 63122630735873971522, 27230704329776982403]\n"
     ]
    }
   ],
   "source": [
    "nums = []\n",
    "for i in range(4):\n",
    "    nums.append(random.randint(-9999999999999999, 1e20))\n",
    "\n",
    "print(nums)"
   ]
  },
  {
   "cell_type": "markdown",
   "metadata": {},
   "source": [
    "## <div align='middle'>在指定左闭右开区间 [a, b) 内生成一个随机偶数, 如 [0, 100001)</div>"
   ]
  },
  {
   "cell_type": "code",
   "execution_count": 38,
   "metadata": {},
   "outputs": [
    {
     "name": "stdout",
     "output_type": "stream",
     "text": [
      "[3980, 94440, 41990, 1902, 13502, 63670, 4412, 32186, 12014, 32654, 65688, 9044, 86422, 71942, 96008, 16884]\n"
     ]
    }
   ],
   "source": [
    "nums = []\n",
    "for i in range(16):\n",
    "    nums.append(random.randrange(0, 100001, 2))\n",
    "\n",
    "print(nums)"
   ]
  },
  {
   "cell_type": "markdown",
   "metadata": {},
   "source": [
    "## <div align='middle'>生成一个左闭右开区间 [0, 1) 内的随机浮点数</div>"
   ]
  },
  {
   "cell_type": "code",
   "execution_count": 33,
   "metadata": {},
   "outputs": [
    {
     "name": "stdout",
     "output_type": "stream",
     "text": [
      "[0.5847350275478377, 0.21533356752430322, 0.14205037356532912, 0.997805085740856]\n"
     ]
    }
   ],
   "source": [
    "nums = []\n",
    "for i in range(4):\n",
    "    nums.append(random.random())\n",
    "\n",
    "print(nums)"
   ]
  },
  {
   "cell_type": "markdown",
   "metadata": {},
   "source": [
    "## <div align='middle'>在指定闭区间 [a, b] 内生成一个随机浮点数, 如 [1, 20]</div>"
   ]
  },
  {
   "cell_type": "code",
   "execution_count": 34,
   "metadata": {},
   "outputs": [
    {
     "name": "stdout",
     "output_type": "stream",
     "text": [
      "[19.39068721241978, 4.5129811072237, 4.065600361672438, 14.483160737260302]\n"
     ]
    }
   ],
   "source": [
    "nums = []\n",
    "for i in range(4):\n",
    "    nums.append(random.uniform(1, 20))\n",
    "\n",
    "print(nums)"
   ]
  },
  {
   "cell_type": "markdown",
   "metadata": {},
   "source": [
    "## <div align='middle'>在指定字符中生成一个随机字符</div>"
   ]
  },
  {
   "cell_type": "code",
   "execution_count": 37,
   "metadata": {},
   "outputs": [
    {
     "name": "stdout",
     "output_type": "stream",
     "text": [
      "['d', '*', 'p', '@', 'b', 'i', 'd', 'b', 'f', 'k', 't', 'p', 'm', 't', 'j', 'e']\n"
     ]
    }
   ],
   "source": [
    "characters = []\n",
    "for i in range(16):\n",
    "    characters.append(random.choice('abcdefghijklmnopqrst@#$%*()'))\n",
    "\n",
    "print(characters)"
   ]
  },
  {
   "cell_type": "markdown",
   "metadata": {},
   "source": [
    "## <div align='middle'>在指定字符中生成指定数量的随机字符</div>"
   ]
  },
  {
   "cell_type": "code",
   "execution_count": 42,
   "metadata": {},
   "outputs": [
    {
     "name": "stdout",
     "output_type": "stream",
     "text": [
      "[['g', 'w', 'o', 't', 'i'], ['f', 'v', 'y', 'a', 'p'], ['z', 'n', 'k', 'h', 'u'], ['m', 't', 'e', 'v', 'y']]\n"
     ]
    }
   ],
   "source": [
    "samples = []\n",
    "for i in range(4):\n",
    "    samples.append(random.sample('abcdefghijklmnopqrstuvwxyz', 5))\n",
    "\n",
    "print(samples)"
   ]
  },
  {
   "cell_type": "markdown",
   "metadata": {},
   "source": [
    "## <div align='middle'>用 a\\~z、A\\~Z、0\\~9 生成指定长度的随机字符串</div>"
   ]
  },
  {
   "cell_type": "code",
   "execution_count": 43,
   "metadata": {},
   "outputs": [
    {
     "name": "stdout",
     "output_type": "stream",
     "text": [
      "['kM8DY0s', 'ycQpKPH', 'gGUJiTk', 'GREwl0e', 'vxHPAEQ', 'AN7kudf']\n"
     ]
    }
   ],
   "source": [
    "strings = []\n",
    "for i in range(6):\n",
    "    ran_s = ''.join(random.sample(string.ascii_letters + string.digits, 7))\n",
    "    strings.append(ran_s)\n",
    "\n",
    "print(strings)"
   ]
  },
  {
   "cell_type": "code",
   "execution_count": 45,
   "metadata": {},
   "outputs": [
    {
     "name": "stdout",
     "output_type": "stream",
     "text": [
      "['Km6pXzL', 'rkHPk5Y', 'liIQ0yb', 'ZAc2Y3c', 'tVV0UUB', 'OADXLGI']\n"
     ]
    }
   ],
   "source": [
    "strings = []\n",
    "for i in range(6):\n",
    "    ran_s = ''.join(random.choices(string.ascii_letters + string.digits, k=7))\n",
    "    strings.append(ran_s)\n",
    "\n",
    "print(strings)"
   ]
  },
  {
   "cell_type": "markdown",
   "metadata": {},
   "source": [
    "`sample`是<font color=red>不放回的随机抽样(**sample without replacement**)</font>, 而`choices`是<font color=red>有放回的随机抽样(**sample with replacement**)</font>"
   ]
  },
  {
   "cell_type": "markdown",
   "metadata": {},
   "source": [
    "## <div align='middle'>从多个字符中选取指定数量的字符组成新字符串</div>"
   ]
  },
  {
   "cell_type": "code",
   "execution_count": 47,
   "metadata": {},
   "outputs": [
    {
     "name": "stdout",
     "output_type": "stream",
     "text": [
      "gijld\n"
     ]
    }
   ],
   "source": [
    "print(''.join(random.sample(['m', 'l', 'i', 'h', 'g', 'k', 'j', 'd'], 5)))"
   ]
  },
  {
   "cell_type": "markdown",
   "metadata": {},
   "source": [
    "## <div align='middle'>打乱顺序</div>"
   ]
  },
  {
   "cell_type": "code",
   "execution_count": 46,
   "metadata": {},
   "outputs": [
    {
     "name": "stdout",
     "output_type": "stream",
     "text": [
      "[0, 8, 6, 9, 1, 2, 5, 3, 4, 7]\n"
     ]
    }
   ],
   "source": [
    "items = [1, 2, 3, 4, 5, 6, 7, 8, 9, 0]\n",
    "random.shuffle(items)\n",
    "print(items)"
   ]
  },
  {
   "cell_type": "code",
   "execution_count": null,
   "metadata": {},
   "outputs": [],
   "source": []
  }
 ],
 "metadata": {
  "kernelspec": {
   "display_name": "Python 3 (ipykernel)",
   "language": "python",
   "name": "python3"
  },
  "language_info": {
   "codemirror_mode": {
    "name": "ipython",
    "version": 3
   },
   "file_extension": ".py",
   "mimetype": "text/x-python",
   "name": "python",
   "nbconvert_exporter": "python",
   "pygments_lexer": "ipython3",
   "version": "3.10.12"
  }
 },
 "nbformat": 4,
 "nbformat_minor": 4
}
