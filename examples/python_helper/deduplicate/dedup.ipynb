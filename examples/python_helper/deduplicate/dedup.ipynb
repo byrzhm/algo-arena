{
 "cells": [
  {
   "cell_type": "markdown",
   "metadata": {},
   "source": [
    "# 使用 python 进行去重"
   ]
  },
  {
   "cell_type": "markdown",
   "metadata": {},
   "source": [
    "## 导入模块"
   ]
  },
  {
   "cell_type": "code",
   "execution_count": 1,
   "metadata": {},
   "outputs": [],
   "source": [
    "import random\n",
    "import time"
   ]
  },
  {
   "cell_type": "markdown",
   "metadata": {},
   "source": [
    "## 使用set去重, 以及暴力去重"
   ]
  },
  {
   "cell_type": "code",
   "execution_count": 2,
   "metadata": {},
   "outputs": [],
   "source": [
    "def NonRepeatList1(data): # 函数 1: set() 函数去重, 不保持原顺序\n",
    "    return list(set(data))\n",
    "\n",
    "def NonRepeatList2(data): # 函数 2: 暴力去重, 保持原顺序 # 函数 2: 暴力去重, 保持原顺序\n",
    "    return [i for n, i in enumerate(data) if i not in data[:n]]"
   ]
  },
  {
   "cell_type": "markdown",
   "metadata": {},
   "source": [
    "<div align='middle'>创建10万个随机数</div>"
   ]
  },
  {
   "cell_type": "code",
   "execution_count": 3,
   "metadata": {},
   "outputs": [
    {
     "name": "stdout",
     "output_type": "stream",
     "text": [
      "[2986174, 33211079, 2816525, 6274421, -93759952]\n",
      "random time =  0.06858420372009277\n"
     ]
    }
   ],
   "source": [
    "time0 = time.time()\n",
    "a = []\n",
    "for i in range(0, 100000): # 10 万个随机数\n",
    "    a.append(random.randint(-100000000, 100000000)) # 随机数取值范围\n",
    "print(a[:5])\n",
    "print(\"random time = \", time.time() - time0)"
   ]
  },
  {
   "cell_type": "markdown",
   "metadata": {},
   "source": [
    "<div align='middle'>使用set进行去重</div>"
   ]
  },
  {
   "cell_type": "code",
   "execution_count": 4,
   "metadata": {},
   "outputs": [
    {
     "name": "stdout",
     "output_type": "stream",
     "text": [
      "[3145728, -7340027, 17563658, 45613067, -36700148]\n",
      "[-40370524, -97031017, 10315619, -99231251, 28122450]\n",
      "set time =  0.04817795753479004\n"
     ]
    }
   ],
   "source": [
    "time0 = time.time()\n",
    "b = NonRepeatList1(a)\n",
    "print(b[:5])\n",
    "random.shuffle(b)\n",
    "print(b[:5])\n",
    "print(\"set time = \", time.time() - time0)"
   ]
  },
  {
   "cell_type": "markdown",
   "metadata": {},
   "source": [
    "<div align='middle'>暴力去重</div>"
   ]
  },
  {
   "cell_type": "code",
   "execution_count": 5,
   "metadata": {},
   "outputs": [
    {
     "name": "stdout",
     "output_type": "stream",
     "text": [
      "[2986174, 33211079, 2816525, 6274421, -93759952]\n",
      "enum time =  59.81856441497803\n"
     ]
    }
   ],
   "source": [
    "time0 = time.time()\n",
    "c = NonRepeatList2(a)\n",
    "print(c[:5])\n",
    "print(\"enum time = \", time.time() - time0)"
   ]
  }
 ],
 "metadata": {
  "kernelspec": {
   "display_name": "Python 3 (ipykernel)",
   "language": "python",
   "name": "python3"
  },
  "language_info": {
   "codemirror_mode": {
    "name": "ipython",
    "version": 3
   },
   "file_extension": ".py",
   "mimetype": "text/x-python",
   "name": "python",
   "nbconvert_exporter": "python",
   "pygments_lexer": "ipython3",
   "version": "3.10.12"
  }
 },
 "nbformat": 4,
 "nbformat_minor": 4
}
