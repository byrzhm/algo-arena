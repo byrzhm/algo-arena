{
 "cells": [
  {
   "cell_type": "markdown",
   "metadata": {},
   "source": [
    "# 在程序设计竞赛中使用python获取输入"
   ]
  },
  {
   "cell_type": "markdown",
   "metadata": {},
   "source": [
    "### <div align='middle'>在多行中每行输入多个整数, 第 1 行输入一个整数 n, 第 2 行输入 n 个整数</div>\n",
    "\n",
    "> 例.\\\n",
    "> 5\\\n",
    "> 1 2 3 4 5\n",
    "> "
   ]
  },
  {
   "cell_type": "code",
   "execution_count": 9,
   "metadata": {},
   "outputs": [
    {
     "name": "stdin",
     "output_type": "stream",
     "text": [
      " 5\n",
      " 1 2 3 4 5\n"
     ]
    },
    {
     "name": "stdout",
     "output_type": "stream",
     "text": [
      "a[0]的类型是<class 'str'>, a[0]=1\n"
     ]
    }
   ],
   "source": [
    "n = int(input())\n",
    "a = input().split(\" \")\n",
    "\n",
    "# 使用 int(a[i]) 访问\n",
    "print(f'a[0]的类型是{type(a[0])}, a[0]={int(a[0])}')"
   ]
  },
  {
   "cell_type": "code",
   "execution_count": 3,
   "metadata": {},
   "outputs": [
    {
     "name": "stdin",
     "output_type": "stream",
     "text": [
      " 3\n",
      " 1 2 3\n"
     ]
    },
    {
     "name": "stdout",
     "output_type": "stream",
     "text": [
      "[1, 2, 3]\n"
     ]
    }
   ],
   "source": [
    "n = int(input())\n",
    "\n",
    "A = [int(i) for i in input().split()]\n",
    "print(A)"
   ]
  },
  {
   "cell_type": "markdown",
   "metadata": {},
   "source": [
    "### <div align='middle'>第 1 行输入一个整数 n; 后面 n 行中, 每行输入一个整数 $A_i$ ($1 \\le A_i \\le 100$)</div>\n",
    "\n",
    "> 例.\\\n",
    "> 3\\\n",
    "> 1\\\n",
    "> 2\\\n",
    "> 3"
   ]
  },
  {
   "cell_type": "code",
   "execution_count": 4,
   "metadata": {},
   "outputs": [
    {
     "name": "stdin",
     "output_type": "stream",
     "text": [
      " 3\n",
      " 1\n",
      " 2\n",
      " 3\n"
     ]
    },
    {
     "name": "stdout",
     "output_type": "stream",
     "text": [
      "[1, 2, 3]\n"
     ]
    }
   ],
   "source": [
    "n = int(input())\n",
    "numlist = []\n",
    "for i in range(n):\n",
    "    numlist.append(int(input()))\n",
    "\n",
    "print(numlist)"
   ]
  },
  {
   "cell_type": "markdown",
   "metadata": {},
   "source": [
    "## <div align='middle'>使用map获取输入</div>"
   ]
  },
  {
   "cell_type": "markdown",
   "metadata": {},
   "source": [
    "### <div align='middle'>第 1 行 4 个整数, 第 2 行若干个整数</div>\n",
    "\n",
    "> 例.\\\n",
    "> 1 2 3 4\\\n",
    "> 1 2 3 4 5 6 7 8\n",
    "> "
   ]
  },
  {
   "cell_type": "code",
   "execution_count": 5,
   "metadata": {},
   "outputs": [
    {
     "name": "stdin",
     "output_type": "stream",
     "text": [
      " 1 2 3 4\n"
     ]
    },
    {
     "name": "stdout",
     "output_type": "stream",
     "text": [
      "1 2 3 4\n"
     ]
    },
    {
     "name": "stdin",
     "output_type": "stream",
     "text": [
      " 1 2 3 4 5 6 7 8\n"
     ]
    },
    {
     "name": "stdout",
     "output_type": "stream",
     "text": [
      "[1, 2, 3, 4, 5, 6, 7, 8]\n"
     ]
    }
   ],
   "source": [
    "A, B, C, m = map(int, input().split())  # 读第 1 行 4 个整数\n",
    "print(A, B, C, m)\n",
    "\n",
    "life = list(map(int, input().split()))  # 读取第 2 行的多个整数, 读取后用 life[i] 访问第 i 个数\n",
    "print(life)"
   ]
  },
  {
   "cell_type": "markdown",
   "metadata": {},
   "source": [
    "### <div align='middle'>第 1 行输入两个整数 n 和 k, 后面 n 行中, 每行输入两个整数 h 和 w</div>\n",
    "\n",
    "> 例.\\\n",
    "> 3 2\\\n",
    "> 1 2\\\n",
    "> 3 4\\\n",
    "> 5 6"
   ]
  },
  {
   "cell_type": "code",
   "execution_count": 6,
   "metadata": {},
   "outputs": [
    {
     "name": "stdin",
     "output_type": "stream",
     "text": [
      " 3 2\n",
      " 1 2\n",
      " 3 4\n",
      " 5 6\n"
     ]
    },
    {
     "name": "stdout",
     "output_type": "stream",
     "text": [
      "[1, 3, 5]\n",
      "[2, 4, 6]\n"
     ]
    }
   ],
   "source": [
    "n, k = map(int, input().split())\n",
    "w = []\n",
    "h = []\n",
    "for i in range(n):\n",
    "    a, b = map(int, input().split())\n",
    "    w.append(a)\n",
    "    h.append(b)\n",
    "\n",
    "print(w)\n",
    "print(h)"
   ]
  },
  {
   "cell_type": "markdown",
   "metadata": {},
   "source": [
    "## <div align='middle'>二维数组</div>"
   ]
  },
  {
   "cell_type": "markdown",
   "metadata": {},
   "source": [
    "### <div align='middle'>第 1 行输入 3 个整数 n 、m 、T, 后面 m 行中, 每行输入两个整数</div>\n",
    "\n",
    "> 例.\\\n",
    "> 1 2 3\\\n",
    "> 4 5\\\n",
    "> 6 7"
   ]
  },
  {
   "cell_type": "code",
   "execution_count": 7,
   "metadata": {},
   "outputs": [
    {
     "name": "stdin",
     "output_type": "stream",
     "text": [
      " 1 2 3\n",
      " 4 5\n",
      " 6 7\n"
     ]
    },
    {
     "name": "stdout",
     "output_type": "stream",
     "text": [
      "1 2 3\n",
      "[[4, 5], [6, 7]]\n"
     ]
    }
   ],
   "source": [
    "first = input()\n",
    "n, m, T = [int(i) for i in first.split()]\n",
    "a = []        # a 是 二维数组, 后面可以这样使用它: a[i][0], a[i][1]\n",
    "for i in range(m):\n",
    "    a.append([int(i) for i in input().split()])\n",
    "\n",
    "print(n, m, T)\n",
    "print(a)"
   ]
  },
  {
   "cell_type": "code",
   "execution_count": null,
   "metadata": {},
   "outputs": [],
   "source": []
  }
 ],
 "metadata": {
  "kernelspec": {
   "display_name": "Python 3 (ipykernel)",
   "language": "python",
   "name": "python3"
  },
  "language_info": {
   "codemirror_mode": {
    "name": "ipython",
    "version": 3
   },
   "file_extension": ".py",
   "mimetype": "text/x-python",
   "name": "python",
   "nbconvert_exporter": "python",
   "pygments_lexer": "ipython3",
   "version": "3.10.12"
  }
 },
 "nbformat": 4,
 "nbformat_minor": 4
}
